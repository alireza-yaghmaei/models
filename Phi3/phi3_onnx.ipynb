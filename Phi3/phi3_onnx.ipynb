{
  "cells": [
    {
      "cell_type": "code",
      "execution_count": 2,
      "metadata": {
        "id": "ENEAhS8w9v4c"
      },
      "outputs": [],
      "source": [
        "device=\"cpu\"      # \"cpu\" or \"cuda\""
      ]
    },
    {
      "cell_type": "markdown",
      "metadata": {
        "id": "MvYv_BghEA9K"
      },
      "source": [
        "# Requiremnets"
      ]
    },
    {
      "cell_type": "code",
      "execution_count": null,
      "metadata": {
        "id": "oyLFGUMXYWtg"
      },
      "outputs": [],
      "source": [
        "#cpu\n",
        "if device==\"cpu\":\n",
        "  # Install required packages\n",
        "  !pip install --pre onnxruntime-genai\n",
        "  # Donwload model\n",
        "  !huggingface-cli download microsoft/Phi-3-mini-4k-instruct-onnx --include cpu_and_mobile/cpu-int4-rtn-block-32-acc-level-4/* --local-dir .\n",
        "\n",
        "#cuda\n",
        "elif device==\"cuda\":\n",
        "  # Install required packages\n",
        "  !pip install torch==2.3.0\n",
        "  !pip install --pre onnxruntime-genai-cuda --index-url=https://aiinfra.pkgs.visualstudio.com/PublicPackages/_packaging/onnxruntime-genai/pypi/simple/\n",
        "  # Donwload model\n",
        "  !huggingface-cli download microsoft/Phi-3-mini-4k-instruct-onnx --include cuda/cuda-int4-rtn-block-32/* --local-dir .\n",
        "\n",
        "\n"
      ]
    },
    {
      "cell_type": "markdown",
      "metadata": {
        "id": "GrcKyYheDuv_"
      },
      "source": [
        "# Inference\n"
      ]
    },
    {
      "cell_type": "code",
      "execution_count": null,
      "metadata": {
        "id": "uIM2LdLCB5rh"
      },
      "outputs": [],
      "source": [
        "if device==\"cpu\":\n",
        "  !python phi3-qa.py -m cpu_and_mobile/cpu-int4-rtn-block-32-acc-level-4 -g -l 64\n",
        "elif device==\"cuda\":\n",
        "  !python phi3-qa.py -m cuda/cuda-int4-rtn-block-32 -g -l 64"
      ]
    },
    {
      "cell_type": "code",
      "execution_count": null,
      "metadata": {
        "id": "YxnWwOO2DSAo"
      },
      "outputs": [],
      "source": []
    }
  ],
  "metadata": {
    "colab": {
      "provenance": []
    },
    "kernelspec": {
      "display_name": "Python 3",
      "name": "python3"
    },
    "language_info": {
      "name": "python"
    }
  },
  "nbformat": 4,
  "nbformat_minor": 0
}
