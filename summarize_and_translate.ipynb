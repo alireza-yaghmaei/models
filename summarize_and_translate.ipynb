{
  "nbformat": 4,
  "nbformat_minor": 0,
  "metadata": {
    "colab": {
      "provenance": [],
      "gpuType": "T4",
      "collapsed_sections": [
        "5sl9mZA3adYm",
        "HDq-4BihYDmS",
        "B3hvsUxOZcaQ"
      ]
    },
    "kernelspec": {
      "name": "python3",
      "display_name": "Python 3"
    },
    "language_info": {
      "name": "python"
    },
    "accelerator": "GPU"
  },
  "cells": [
    {
      "cell_type": "code",
      "execution_count": null,
      "metadata": {
        "id": "YWkqPtxBNT97"
      },
      "outputs": [],
      "source": [
        "!pip install transformers==4.41.2"
      ]
    },
    {
      "cell_type": "code",
      "source": [
        "from transformers import pipeline\n",
        "from transformers import AutoTokenizer, AutoModelForSeq2SeqLM\n",
        "from transformers import MBartForConditionalGeneration, MBart50TokenizerFast"
      ],
      "metadata": {
        "id": "Cabw0MyUNav5"
      },
      "execution_count": 1,
      "outputs": []
    },
    {
      "cell_type": "code",
      "source": [
        "device = \"cuda\""
      ],
      "metadata": {
        "id": "Y6VCyU27maSk"
      },
      "execution_count": 12,
      "outputs": []
    },
    {
      "cell_type": "code",
      "source": [
        "text_fa = \"\"\"\n",
        "پیش‌بینی می‌شود اقتصاد فرانسه از یک دوره شش ماهه عدم رشد بهبود یابد و بانک مرکزی فرانسه رشد متوسط 0.1 تا 0.2 درصدی را در سه ماهه اول سال 2024 پیش‌بینی کرده است که ناشی از بهبود بخش خدمات و افزایش پیش‌بینی‌شده در بخش تولید صنعتی است.\n",
        "\n",
        "به گفته فرانسوا ویلروی دو گالهاو، رئیس بانک مرکزی فرانسه،  فشارهای تورمی در حال کاهش یافتن است و شرکت‌های کمتری قیمت‌ها را افزایش می‌دهند و این امر منجر به کاهش تورم در ابعادی گسترده‌تر می‌شود که ممکن است بانک مرکزی اروپا را قادر سازد تا زمانی که تورم به طور مداوم در محدوده هدف ۲ درصد قرار گرفت، کاهش نرخ بهره را در نظر بگیرد.\n",
        "\"\"\"\n"
      ],
      "metadata": {
        "id": "wXYryW-seBDM"
      },
      "execution_count": 2,
      "outputs": []
    },
    {
      "cell_type": "markdown",
      "source": [
        "## Translate"
      ],
      "metadata": {
        "id": "5sl9mZA3adYm"
      }
    },
    {
      "cell_type": "code",
      "source": [
        "translate_model = AutoModelForSeq2SeqLM.from_pretrained(\"facebook/mbart-large-50-many-to-many-mmt\")\n",
        "translate_tokenizer = AutoTokenizer.from_pretrained(\"facebook/mbart-large-50-many-to-many-mmt\")"
      ],
      "metadata": {
        "id": "4VPKlf1XeKkm"
      },
      "execution_count": 74,
      "outputs": []
    },
    {
      "cell_type": "code",
      "source": [
        "def translate(text, src_lang, tgt_lang):\n",
        "  translate_pipe = pipeline(\"translation\", model=translate_model, tokenizer=translate_tokenizer, src_lang=src_lang, tgt_lang=tgt_lang, device=device)\n",
        "  translation = translate_pipe(text)\n",
        "  return translation[0]['translation_text']"
      ],
      "metadata": {
        "id": "5IftkZpld4KB"
      },
      "execution_count": 75,
      "outputs": []
    },
    {
      "cell_type": "code",
      "source": [
        "# translation = translate(text_fa, src_lang=\"fa_IR\", tgt_lang=\"en_XX\")"
      ],
      "metadata": {
        "id": "nBD3SE0GadYn"
      },
      "execution_count": 5,
      "outputs": []
    },
    {
      "cell_type": "markdown",
      "source": [
        "## Summarize"
      ],
      "metadata": {
        "id": "HDq-4BihYDmS"
      }
    },
    {
      "cell_type": "code",
      "source": [
        "def summarize(text, model_name):\n",
        "  summerize_tokenizer = AutoTokenizer.from_pretrained(model_name)\n",
        "  summerize_model = AutoModelForSeq2SeqLM.from_pretrained(model_name)\n",
        "\n",
        "  summarize_pipe = pipeline(\"summarization\", model=summerize_model, tokenizer=summerize_tokenizer , device=device)\n",
        "  summary_max_length = len(summerize_tokenizer(text)['input_ids'])\n",
        "  summary = summarize_pipe(text, min_length=1, max_length=summary_max_length)\n",
        "  return summary[0]['summary_text']"
      ],
      "metadata": {
        "id": "dwLNU9BSjo3I"
      },
      "execution_count": 42,
      "outputs": []
    },
    {
      "cell_type": "code",
      "source": [
        "text_to_summarize = translation"
      ],
      "metadata": {
        "id": "jB49mrL-lgqY"
      },
      "execution_count": 9,
      "outputs": []
    },
    {
      "cell_type": "code",
      "source": [
        "# summary = summarize(text_to_summarize, model_name=\"facebook/bart-large-cnn\")"
      ],
      "metadata": {
        "id": "j_nRKY5zU-6R",
        "colab": {
          "base_uri": "https://localhost:8080/"
        },
        "outputId": "a3afe011-8f53-4866-d333-0e313951ff0d"
      },
      "execution_count": 13,
      "outputs": [
        {
          "output_type": "stream",
          "name": "stderr",
          "text": [
            "Asking to truncate to max_length but no maximum length is provided and the model has no predefined maximum length. Default to no truncation.\n"
          ]
        }
      ]
    },
    {
      "cell_type": "markdown",
      "source": [
        "## Compare"
      ],
      "metadata": {
        "id": "B3hvsUxOZcaQ"
      }
    },
    {
      "cell_type": "code",
      "source": [
        "def summarize_by_translating(text):\n",
        "  lang1 = \"fa_IR\"\n",
        "  lang2 = \"en_XX\"\n",
        "  translation = translate(text, src_lang=lang1, tgt_lang=lang2)\n",
        "  summary = summarize(translation, model_name=\"facebook/bart-large-cnn\")\n",
        "  translated_summary = translate(summary, src_lang=lang2, tgt_lang=lang1)\n",
        "  return translated_summary"
      ],
      "metadata": {
        "id": "Q5cUBjqkZddQ"
      },
      "execution_count": 89,
      "outputs": []
    },
    {
      "cell_type": "code",
      "source": [
        "def summarize_alone(text):\n",
        "  summary = summarize(text, model_name=\"csebuetnlp/mT5_multilingual_XLSum\")\n",
        "  return summary"
      ],
      "metadata": {
        "id": "oqTUiGurZi2H"
      },
      "execution_count": 90,
      "outputs": []
    },
    {
      "cell_type": "code",
      "source": [
        "def compare(text):\n",
        "  print(\"#\"*100)\n",
        "  print(f\"input text length: {len(text)}\")\n",
        "  print(f\"input text: {text}\")\n",
        "  print(\"#\"*100)\n",
        "  tst =  summarize_by_translating(text)\n",
        "  print(\"#\"*100)\n",
        "  print(f\"summarize_by_translating result length: {len(tst)}\")\n",
        "  print(\"summary by translation/summarization/translation:\")\n",
        "  print(tst,'\\n')\n",
        "  print(\"#\"*100)\n",
        "  s = summarize_alone(text)\n",
        "  print(\"#\"*100)\n",
        "  print(f\"summarize_alone result length: {len(s)}\")\n",
        "  print(\"summary by summarization alone:\")\n",
        "  print(s)\n",
        "  print(\"#\"*100)\n",
        "  return tst,s"
      ],
      "metadata": {
        "id": "Wd3LcqNYnRNP"
      },
      "execution_count": 93,
      "outputs": []
    },
    {
      "cell_type": "code",
      "source": [
        "r1,r2 = compare(text_fa)"
      ],
      "metadata": {
        "colab": {
          "base_uri": "https://localhost:8080/"
        },
        "id": "CewK1ItjoJH6",
        "outputId": "7287ad1f-cfc7-46b3-e411-0cb174d9874e"
      },
      "execution_count": 94,
      "outputs": [
        {
          "output_type": "stream",
          "name": "stdout",
          "text": [
            "####################################################################################################\n",
            "input text length: 563\n",
            "input text: \n",
            "پیش‌بینی می‌شود اقتصاد فرانسه از یک دوره شش ماهه عدم رشد بهبود یابد و بانک مرکزی فرانسه رشد متوسط 0.1 تا 0.2 درصدی را در سه ماهه اول سال 2024 پیش‌بینی کرده است که ناشی از بهبود بخش خدمات و افزایش پیش‌بینی‌شده در بخش تولید صنعتی است.\n",
            "\n",
            "به گفته فرانسوا ویلروی دو گالهاو، رئیس بانک مرکزی فرانسه،  فشارهای تورمی در حال کاهش یافتن است و شرکت‌های کمتری قیمت‌ها را افزایش می‌دهند و این امر منجر به کاهش تورم در ابعادی گسترده‌تر می‌شود که ممکن است بانک مرکزی اروپا را قادر سازد تا زمانی که تورم به طور مداوم در محدوده هدف ۲ درصد قرار گرفت، کاهش نرخ بهره را در نظر بگیرد.\n",
            "\n",
            "####################################################################################################\n"
          ]
        },
        {
          "output_type": "stream",
          "name": "stderr",
          "text": [
            "/usr/local/lib/python3.10/dist-packages/huggingface_hub/file_download.py:1132: FutureWarning: `resume_download` is deprecated and will be removed in version 1.0.0. Downloads always resume when possible. If you want to force a new download, use `force_download=True`.\n",
            "  warnings.warn(\n"
          ]
        },
        {
          "output_type": "stream",
          "name": "stdout",
          "text": [
            "####################################################################################################\n",
            "summarize_by_translating result length: 145\n",
            "summary by translation/summarization/translation:\n",
            "اقتصاد فرانسه از یک دوره شش ماهه رکود بهبود پیدا می کند. بانک مرکزی فرانسه رشد متوسط 0.1 تا 0.2 درصد را در سه ماه اول سال ۲۰24 پیش بینی کرده است. \n",
            "\n",
            "####################################################################################################\n"
          ]
        },
        {
          "output_type": "stream",
          "name": "stderr",
          "text": [
            "/usr/local/lib/python3.10/dist-packages/transformers/convert_slow_tokenizer.py:560: UserWarning: The sentencepiece tokenizer that you are converting to a fast tokenizer uses the byte fallback option which is not implemented in the fast tokenizers. In practice this means that the fast version of the tokenizer can produce unknown tokens whereas the sentencepiece version would have converted these unknown tokens into a sequence of byte tokens matching the original piece of text.\n",
            "  warnings.warn(\n"
          ]
        },
        {
          "output_type": "stream",
          "name": "stdout",
          "text": [
            "####################################################################################################\n",
            "summarize_alone result length: 90\n",
            "summary by summarization alone:\n",
            "بانک مرکزی فرانسه پیش بینی کرده است که اقتصاد این کشور در سه ماهه اول سال 2024 بهبود یابد.\n",
            "####################################################################################################\n"
          ]
        }
      ]
    },
    {
      "cell_type": "code",
      "source": [],
      "metadata": {
        "id": "fZShX9k0pLS7"
      },
      "execution_count": null,
      "outputs": []
    }
  ]
}